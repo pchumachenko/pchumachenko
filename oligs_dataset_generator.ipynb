{
 "cells": [
  {
   "cell_type": "code",
   "execution_count": 59,
   "id": "98c7aff5-c5ad-442c-82cb-296b77026ada",
   "metadata": {
    "tags": []
   },
   "outputs": [],
   "source": [
    "#Сколько пар олигов нужно сгенерить\n",
    "sample_size = 10000 #@param {type:\"integer\"}"
   ]
  },
  {
   "cell_type": "code",
   "execution_count": 60,
   "id": "5812a088-2c54-41ea-8528-14e94aa01842",
   "metadata": {
    "tags": []
   },
   "outputs": [],
   "source": [
    "# Import NUPACK Python module\n",
    "from nupack import *\n",
    "\n",
    "# Define physical model \n",
    "my_model = Model(material='dna', celsius=25)"
   ]
  },
  {
   "cell_type": "code",
   "execution_count": 61,
   "id": "f6f68fb2-0c06-4c78-8cd5-a9b1a60d9589",
   "metadata": {
    "tags": []
   },
   "outputs": [],
   "source": [
    "#генерируем олиги и считаем их аффиность\n",
    "def aff_data_generate():\n",
    "    str1 = random_sequence(15)\n",
    "    str2 = random_sequence(15)\n",
    "    \n",
    "    seq1 = Strand(str1, name=\"seq1\")\n",
    "    seq2 = Strand(str2, name=\"seq2\")\n",
    "    rez_conc = 0\n",
    "    \n",
    "    #print(seq1) \n",
    "    #print(seq2)\n",
    "    \n",
    "    exp = Tube(strands={seq1: 1e-6, seq2: 1e-6}, complexes=SetSpec(max_size=2), name='exp')\n",
    "    tube_results = tube_analysis(tubes=[exp], model=my_model)\n",
    "    proba = tube_results[exp].complex_concentrations\n",
    "    \n",
    "    for my_complex, conc in proba.items():\n",
    "        if ((my_complex.name == '(seq1+seq2)') or ((my_complex.name == '(seq2+seq1)'))):\n",
    "            rez_conc = conc\n",
    "            #print(conc)\n",
    "    \n",
    "    return [str1, str2, rez_conc]"
   ]
  },
  {
   "cell_type": "code",
   "execution_count": 62,
   "id": "713b8f8f-e098-494f-a6e8-c8cf4a247468",
   "metadata": {
    "tags": []
   },
   "outputs": [],
   "source": [
    "#кодируем букву в вектор\n",
    "def nucleotid_to_vector(letter):\n",
    "    return {\n",
    "            letter == 'A': '1,0,0,0',\n",
    "            letter == 'T': '0,1,0,0',\n",
    "            letter == 'C': '0,0,1,0',\n",
    "            letter == 'G': '0,0,0,1',\n",
    "    }[True]"
   ]
  },
  {
   "cell_type": "code",
   "execution_count": 63,
   "id": "c21b07ee-c62d-4cc6-8251-99e6571d3d28",
   "metadata": {
    "tags": []
   },
   "outputs": [],
   "source": [
    "#кодируем олиг в матрицу\n",
    "def strand_to_matrix(strand):\n",
    "    matrix = ''\n",
    "    for letter in strand:\n",
    "        #matrix.append(nucleotid_to_vector(letter)\n",
    "        #print(nucleotid_to_vector(letter))\n",
    "        matrix = matrix + nucleotid_to_vector(letter) + ','\n",
    "    \n",
    "    #matrix = matrix[:-1]\n",
    "    return matrix"
   ]
  },
  {
   "cell_type": "code",
   "execution_count": 64,
   "id": "9b956a3e-66c6-4f9e-aba3-e7defce43215",
   "metadata": {
    "tags": []
   },
   "outputs": [],
   "source": [
    "#тестируем кодироваие и генерацию\n",
    "#out = []\n",
    "#for i in range (30):\n",
    "#    line = aff_data_generate()\n",
    "    \n",
    "#    vec1 = strand_to_matrix(line[0])\n",
    "#    vec2 = strand_to_matrix(line[1])\n",
    "    \n",
    "#    matr = []\n",
    "#    for nuc in range(len(vec1)):\n",
    "#        matr.append([vec1[nuc], vec2[nuc]])\n",
    "    \n",
    "#    out.append([matr, line[2]])\n",
    "#print(out)"
   ]
  },
  {
   "cell_type": "code",
   "execution_count": 65,
   "id": "84618195-1f5c-44dd-84dd-7050b4664cdf",
   "metadata": {
    "tags": []
   },
   "outputs": [],
   "source": [
    "#output with texted oligs\n",
    "import string\n",
    "import os \n",
    "\n",
    "file = open('train_dataset', 'w', encoding='ascii')\n",
    "for i in range(sample_size):\n",
    "    experiment = aff_data_generate()\n",
    "    conc = numpy.format_float_positional(experiment[2])\n",
    "    file.write(experiment[0]+','+experiment[1]+','+conc+'\\n')\n",
    "file.close()\n",
    "\n",
    "file = open('valid_dataset', 'w', encoding='ascii')\n",
    "for i in range(sample_size // 3):\n",
    "    experiment = aff_data_generate()\n",
    "    conc = numpy.format_float_positional(experiment[2])\n",
    "    file.write(experiment[0]+','+experiment[1]+','+conc+'\\n')\n",
    "file.close()\n",
    "\n",
    "file = open('test_dataset', 'w', encoding='ascii')\n",
    "for i in range(10):\n",
    "    experiment = aff_data_generate()\n",
    "    conc = numpy.format_float_positional(experiment[2])\n",
    "    file.write(experiment[0]+','+experiment[1]+','+conc+'\\n')\n",
    "file.close()\n"
   ]
  },
  {
   "cell_type": "code",
   "execution_count": 66,
   "id": "03d1949d-de59-4c0c-b86b-066497bbbd12",
   "metadata": {
    "tags": []
   },
   "outputs": [
    {
     "data": {
      "text/plain": [
       "\"\\nimport string\\nimport os\\nimport numpy as np\\n\\nfile = open('oligs_dataset', 'w', encoding='ascii')\\n\\nfor i in range (sample_size):\\n    experiment = aff_data_generate()\\n    \\n    vec1 = strand_to_matrix(experiment[0])\\n    vec2 = strand_to_matrix(experiment[1])\\n    \\n    conc = numpy.format_float_positional(experiment[2])\\n          \\n    #выходной массив\\n    #[oli1(15*4) + olig2(15*4) + conc]*число экспериментов[x] = [[15*8] + 1]*x = 15*9*x\\n    #print('['+ vec1 + '][' + vec2 + ']' + conc + '\\n')\\n    \\n    file.write(vec1 + vec2 + conc + '\\n')\\n        \\nfile.close()\\n\""
      ]
     },
     "execution_count": 66,
     "metadata": {},
     "output_type": "execute_result"
    }
   ],
   "source": [
    "#output with one-hot coded oligs\n",
    "\"\"\"\n",
    "import string\n",
    "import os\n",
    "import numpy as np\n",
    "\n",
    "file = open('oligs_dataset', 'w', encoding='ascii')\n",
    "\n",
    "for i in range (sample_size):\n",
    "    experiment = aff_data_generate()\n",
    "    \n",
    "    vec1 = strand_to_matrix(experiment[0])\n",
    "    vec2 = strand_to_matrix(experiment[1])\n",
    "    \n",
    "    conc = numpy.format_float_positional(experiment[2])\n",
    "          \n",
    "    #выходной массив\n",
    "    #[oli1(15*4) + olig2(15*4) + conc]*число экспериментов[x] = [[15*8] + 1]*x = 15*9*x\n",
    "    #print('['+ vec1 + '][' + vec2 + ']' + conc + '\\n')\n",
    "    \n",
    "    file.write(vec1 + vec2 + conc + '\\n')\n",
    "        \n",
    "file.close()\n",
    "\"\"\""
   ]
  },
  {
   "cell_type": "code",
   "execution_count": null,
   "id": "7f63aa99-80ce-443e-8528-724cd891280c",
   "metadata": {},
   "outputs": [],
   "source": []
  }
 ],
 "metadata": {
  "kernelspec": {
   "display_name": "Python 3 (ipykernel)",
   "language": "python",
   "name": "python3"
  },
  "language_info": {
   "codemirror_mode": {
    "name": "ipython",
    "version": 3
   },
   "file_extension": ".py",
   "mimetype": "text/x-python",
   "name": "python",
   "nbconvert_exporter": "python",
   "pygments_lexer": "ipython3",
   "version": "3.10.6"
  }
 },
 "nbformat": 4,
 "nbformat_minor": 5
}
